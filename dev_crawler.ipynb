{
 "cells": [
  {
   "cell_type": "code",
   "execution_count": 1,
   "metadata": {},
   "outputs": [
    {
     "name": "stdout",
     "output_type": "stream",
     "text": [
      "23/04/07 20:51:29 WARN Utils: Your hostname, DESKTOP-L7KNHUE resolves to a loopback address: 127.0.1.1; using 192.168.45.127 instead (on interface eth0)\n",
      "23/04/07 20:51:29 WARN Utils: Set SPARK_LOCAL_IP if you need to bind to another address\n"
     ]
    },
    {
     "name": "stderr",
     "output_type": "stream",
     "text": [
      "Setting default log level to \"WARN\".\n",
      "To adjust logging level use sc.setLogLevel(newLevel). For SparkR, use setLogLevel(newLevel).\n"
     ]
    },
    {
     "name": "stdout",
     "output_type": "stream",
     "text": [
      "23/04/07 20:51:31 WARN NativeCodeLoader: Unable to load native-hadoop library for your platform... using builtin-java classes where applicable\n"
     ]
    }
   ],
   "source": [
    "# Import libraries for crawling\n",
    "import requests\n",
    "from bs4 import BeautifulSoup\n",
    "import numpy as np\n",
    "\n",
    "# Import PySpark\n",
    "from pyspark import SparkContext\n",
    "from pyspark.sql import SparkSession\n",
    "from pyspark.sql.types import StructType,StructField, StringType\n",
    "\n",
    "## Creates spark session\n",
    "sc = SparkContext.getOrCreate()\n",
    "spark = SparkSession.builder.appName('Dota2 Crawler').getOrCreate()"
   ]
  },
  {
   "cell_type": "code",
   "execution_count": 18,
   "metadata": {},
   "outputs": [
    {
     "name": "stdout",
     "output_type": "stream",
     "text": [
      "root\n",
      " |-- hero: string (nullable = true)\n",
      " |-- header: string (nullable = true)\n",
      " |-- type: string (nullable = true)\n",
      " |-- counter: string (nullable = true)\n",
      "\n"
     ]
    }
   ],
   "source": [
    "# Creates dataframe with schema for the dataset\n",
    "emptyRDD = spark.sparkContext.emptyRDD()\n",
    "\n",
    "## Create schema\n",
    "schema = StructType([\n",
    "  StructField('hero', StringType(), True),\n",
    "  StructField('header', StringType(), True),\n",
    "  StructField('type', StringType(), True),\n",
    "  StructField('counter', StringType(), True)\n",
    "  ])\n",
    "\n",
    "# Creates temp dataframe\n",
    "df = spark.createDataFrame(emptyRDD,schema)\n",
    "df.printSchema()"
   ]
  },
  {
   "cell_type": "code",
   "execution_count": 3,
   "metadata": {},
   "outputs": [],
   "source": [
    "page = requests.get('https://dota2.fandom.com/wiki/Abaddon/Counters')\n",
    "soup = BeautifulSoup(page.text, 'html.parser')"
   ]
  },
  {
   "cell_type": "code",
   "execution_count": 14,
   "metadata": {},
   "outputs": [],
   "source": [
    "# Pull all text from body div\n",
    "hero_name_list = soup.find_all(style='font-size:12pt;display:inline;')\n",
    "header_list = soup.find_all(class_='mw-headline')\n",
    "item_list = soup.find_all(class_='image-link')\n",
    "\n",
    "# user-defined function for creating nested dictionary\n",
    "def dotaDict(scrape_list):\n",
    "    text = []\n",
    "    srcline = []\n",
    "    for h in scrape_list:\n",
    "        text.append(h.get_text())\n",
    "        srcline.append(h.sourceline)\n",
    "    arr = np.column_stack((text,srcline))\n",
    "    return arr\n",
    "\n",
    "# created nested dictionary\n",
    "## header\n",
    "headers = dotaDict(header_list)\n",
    "## heroes\n",
    "heroes = dotaDict(hero_name_list)\n",
    "## items\n",
    "items = dotaDict(item_list)"
   ]
  },
  {
   "cell_type": "code",
   "execution_count": 25,
   "metadata": {},
   "outputs": [
    {
     "data": {
      "text/plain": [
       "'Items'"
      ]
     },
     "execution_count": 25,
     "metadata": {},
     "output_type": "execute_result"
    }
   ],
   "source": [
    "headers[2][0]"
   ]
  },
  {
   "cell_type": "code",
   "execution_count": 26,
   "metadata": {},
   "outputs": [
    {
     "data": {
      "text/plain": [
       "array([['Ancient Apparition', '1334'],\n",
       "       ['Axe', '1337'],\n",
       "       ['Brewmaster', '1340'],\n",
       "       ['Doom', '1344'],\n",
       "       ['Lina', '1347'],\n",
       "       ['Outworld Destroyer', '1350'],\n",
       "       ['Shadow Demon', '1354'],\n",
       "       ['Death Prophet', '1369'],\n",
       "       ['Mirana', '1373'],\n",
       "       ['Bane', '1376'],\n",
       "       ['Batrider', '1380'],\n",
       "       ['Beastmaster', '1384'],\n",
       "       ['Chen', '1388'],\n",
       "       ['Techies', '1391'],\n",
       "       ['Bloodseeker', '1396'],\n",
       "       ['Necrophos', '1399'],\n",
       "       ['Legion Commander', '1402'],\n",
       "       ['Nyx Assassin', '1405'],\n",
       "       ['Storm Spirit', '1419'],\n",
       "       ['Phantom Assassin', '1422'],\n",
       "       ['Io', '1425'],\n",
       "       ['Axe', '1428'],\n",
       "       ['Legion Commander', '1431'],\n",
       "       ['Centaur Warrunner', '1434'],\n",
       "       ['Oracle', '1437']], dtype='<U21')"
      ]
     },
     "execution_count": 26,
     "metadata": {},
     "output_type": "execute_result"
    }
   ],
   "source": [
    "heroes"
   ]
  },
  {
   "cell_type": "code",
   "execution_count": null,
   "metadata": {},
   "outputs": [],
   "source": []
  }
 ],
 "metadata": {
  "kernelspec": {
   "display_name": "Python 3.10.6 64-bit",
   "language": "python",
   "name": "python3"
  },
  "language_info": {
   "codemirror_mode": {
    "name": "ipython",
    "version": 3
   },
   "file_extension": ".py",
   "mimetype": "text/x-python",
   "name": "python",
   "nbconvert_exporter": "python",
   "pygments_lexer": "ipython3",
   "version": "3.10.6"
  },
  "orig_nbformat": 4,
  "vscode": {
   "interpreter": {
    "hash": "916dbcbb3f70747c44a77c7bcd40155683ae19c65e1c03b4aa3499c5328201f1"
   }
  }
 },
 "nbformat": 4,
 "nbformat_minor": 2
}
